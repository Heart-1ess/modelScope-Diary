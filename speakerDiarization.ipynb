{
 "cells": [
  {
   "cell_type": "code",
   "execution_count": 8,
   "id": "b8fe3620",
   "metadata": {},
   "outputs": [],
   "source": [
    "# 话者分离功能实现 - SOND\n",
    "from modelscope.pipelines import pipeline\n",
    "from modelscope.utils.constant import Tasks"
   ]
  },
  {
   "cell_type": "code",
   "execution_count": 9,
   "id": "88ced2f6",
   "metadata": {},
   "outputs": [
    {
     "name": "stdout",
     "output_type": "stream",
     "text": [
      "/data/ys_data/project/models/hub/\n",
      "/data/ys_data/project/modelscope_modules/\n"
     ]
    }
   ],
   "source": [
    "# 设置环境变量\n",
    "import os\n",
    "\n",
    "if not os.environ.get(\"MODELSCOPE_CACHE\"):\n",
    "    os.environ.setdefault(\"MODELSCOPE_CACHE\", \"/data/ys_data/project/models/hub/\")\n",
    "if not os.environ.get(\"MODELSCOPE_MODULES_CACHE\"):\n",
    "    os.environ.setdefault(\"MODELSCOPE_MODULES_CACHE\", \"/data/ys_data/project/modelscope_modules/\")\n",
    "    \n",
    "# print(os.environ.get(\"MODELSCOPE_CACHE\"))\n",
    "# print(os.environ.get(\"MODELSCOPE_MODULES_CACHE\"))"
   ]
  },
  {
   "cell_type": "code",
   "execution_count": 10,
   "id": "872c2e0c",
   "metadata": {},
   "outputs": [
    {
     "name": "stderr",
     "output_type": "stream",
     "text": [
      "2023-10-30 19:13:50,138 - modelscope - WARNING - Model revision not specified, use revision: v1.0.5\n",
      "Downloading: 100%|██████████| 6.00k/6.00k [00:00<00:00, 437kB/s]\n",
      "Downloading: 100%|██████████| 747/747 [00:00<00:00, 233kB/s]\n",
      "Downloading: 100%|██████████| 45.4k/45.4k [00:00<00:00, 3.50MB/s]\n",
      "Downloading: 100%|██████████| 18.0k/18.0k [00:00<00:00, 3.31MB/s]\n",
      "Downloading: 100%|██████████| 500k/500k [00:00<00:00, 2.96MB/s]\n",
      "Downloading: 100%|██████████| 92.5k/92.5k [00:00<00:00, 2.66MB/s]\n",
      "Downloading: 100%|██████████| 162M/162M [00:19<00:00, 8.76MB/s] \n",
      "Downloading: 100%|██████████| 27.6k/27.6k [00:00<00:00, 2.47MB/s]\n",
      "Downloading: 100%|██████████| 27.3k/27.3k [00:00<00:00, 2.12MB/s]\n",
      "Downloading: 100%|██████████| 275k/275k [00:00<00:00, 3.21MB/s]\n",
      "Downloading: 100%|██████████| 300k/300k [00:00<00:00, 7.23MB/s]\n",
      "Downloading: 100%|██████████| 310k/310k [00:00<00:00, 2.36MB/s]\n",
      "Downloading: 100%|██████████| 293k/293k [00:00<00:00, 3.10MB/s]\n",
      "Downloading: 100%|██████████| 56.0k/56.0k [00:00<00:00, 2.37MB/s]\n",
      "2023-10-30 19:14:13,940 - modelscope - WARNING - Model revision not specified, use revision: v1.2.2\n",
      "Downloading: 100%|██████████| 624/624 [00:00<00:00, 197kB/s]\n",
      "Downloading: 100%|██████████| 20.2k/20.2k [00:00<00:00, 4.94MB/s]\n",
      "Downloading: 100%|██████████| 56.0k/56.0k [00:00<00:00, 3.95MB/s]\n",
      "Downloading: 100%|██████████| 69.4M/69.4M [00:06<00:00, 10.9MB/s]\n",
      "Downloading: 100%|██████████| 41.0k/41.0k [00:00<00:00, 3.28MB/s]\n",
      "Downloading: 100%|██████████| 123k/123k [00:00<00:00, 4.64MB/s]\n",
      "Downloading: 100%|██████████| 1.44M/1.44M [00:00<00:00, 10.0MB/s]\n",
      "Downloading: 100%|██████████| 173k/173k [00:00<00:00, 5.07MB/s]\n"
     ]
    }
   ],
   "source": [
    "# 模型下载\n",
    "from modelscope.hub.snapshot_download import snapshot_download\n",
    "\n",
    "local_dir_root = \"/data/ys_data/project/models/hub/\"\n",
    "\n",
    "model_dir_sond = snapshot_download('damo/speech_diarization_sond-zh-cn-alimeeting-16k-n16k4-pytorch', cache_dir=local_dir_root)\n",
    "model_dir_xvector = snapshot_download('damo/speech_xvector_sv-zh-cn-cnceleb-16k-spk3465-pytorch', cache_dir=local_dir_root)"
   ]
  },
  {
   "cell_type": "code",
   "execution_count": 11,
   "id": "27f52b70",
   "metadata": {},
   "outputs": [
    {
     "name": "stderr",
     "output_type": "stream",
     "text": [
      "2023-10-30 19:14:25,683 - modelscope - INFO - initiate model from /data/ys_data/project/models/hub/damo/speech_diarization_sond-zh-cn-alimeeting-16k-n16k4-pytorch\n",
      "2023-10-30 19:14:25,684 - modelscope - INFO - initiate model from location /data/ys_data/project/models/hub/damo/speech_diarization_sond-zh-cn-alimeeting-16k-n16k4-pytorch.\n",
      "2023-10-30 19:14:25,686 - modelscope - INFO - initialize model from /data/ys_data/project/models/hub/damo/speech_diarization_sond-zh-cn-alimeeting-16k-n16k4-pytorch\n",
      "2023-10-30 19:14:25,690 - modelscope - WARNING - No preprocessor field found in cfg.\n",
      "2023-10-30 19:14:25,690 - modelscope - WARNING - No val key and type key found in preprocessor domain of configuration.json file.\n",
      "2023-10-30 19:14:25,691 - modelscope - WARNING - Cannot find available config to build preprocessor at mode inference, current config: {'model_dir': '/data/ys_data/project/models/hub/damo/speech_diarization_sond-zh-cn-alimeeting-16k-n16k4-pytorch'}. trying to build by task and model information.\n",
      "2023-10-30 19:14:25,692 - modelscope - WARNING - No preprocessor key ('generic-sv', 'speaker-diarization') found in PREPROCESSOR_MAP, skip building preprocessor.\n",
      "2023-10-30 19:14:25,694 - modelscope - INFO - loading speaker verification model from /data/ys_data/project/models/hub/damo/speech_xvector_sv-zh-cn-cnceleb-16k-spk3465-pytorch ...\n",
      "2023-10-30 19:14:32,261 - modelscope - INFO - Speaker Verification Processing: ['https://isv-data.oss-cn-hangzhou.aliyuncs.com/ics/MaaS/ASR/test_data/speaker_diarization/record.wa ...\n",
      "/data/ys_data/project/FunASR/funasr/models/encoder/resnet34_encoder.py:56: UserWarning: __floordiv__ is deprecated, and its behavior will change in a future version of pytorch. It currently rounds toward 0 (like the 'trunc' function NOT 'floor'). This results in incorrect rounding for negative values. To keep the current behavior, use torch.div(a, b, rounding_mode='trunc'), or for actual floor division, use torch.div(a, b, rounding_mode='floor').\n",
      "  ilens = (ilens + 1) // self.stride\n"
     ]
    },
    {
     "name": "stdout",
     "output_type": "stream",
     "text": [
      "{'text': 'spk1 [(0.0, 8.88), (10.56, 15.2)]\\nspk2 [(8.88, 9.76)]\\nspk3 [(9.6, 11.04), (15.12, 15.68)]\\nspk4 [(11.2, 11.76)]'}\n"
     ]
    },
    {
     "name": "stderr",
     "output_type": "stream",
     "text": [
      "/data/anaconda3/envs/modelscope/lib/python3.8/site-packages/torch/nn/functional.py:3704: UserWarning: nn.functional.upsample is deprecated. Use nn.functional.interpolate instead.\n",
      "  warnings.warn(\"nn.functional.upsample is deprecated. Use nn.functional.interpolate instead.\")\n"
     ]
    }
   ],
   "source": [
    "# 本地模型路径 - SOND和XVector\n",
    "# print(model_dir_sond)\n",
    "# print(model_dir_xvector)\n",
    "\n",
    "# 管道初始化\n",
    "inference_diar_pipeline = pipeline(\n",
    "    task=Tasks.speaker_diarization,\n",
    "    model=model_dir_sond,\n",
    "    model_revision=\"v1.0.5\",\n",
    "    sv_model=model_dir_xvector,\n",
    "    sv_model_revision=\"v1.2.2\",\n",
    "    )\n",
    "\n",
    "# 输入音频，第一个是待识别样本，后面的为说话人的声音样本\n",
    "audio_list = [\n",
    "    \"https://isv-data.oss-cn-hangzhou.aliyuncs.com/ics/MaaS/ASR/test_data/speaker_diarization/record.wav\",\n",
    "    \"https://isv-data.oss-cn-hangzhou.aliyuncs.com/ics/MaaS/ASR/test_data/speaker_diarization/spk1.wav\",\n",
    "    \"https://isv-data.oss-cn-hangzhou.aliyuncs.com/ics/MaaS/ASR/test_data/speaker_diarization/spk2.wav\",\n",
    "    \"https://isv-data.oss-cn-hangzhou.aliyuncs.com/ics/MaaS/ASR/test_data/speaker_diarization/spk3.wav\",\n",
    "    \"https://isv-data.oss-cn-hangzhou.aliyuncs.com/ics/MaaS/ASR/test_data/speaker_diarization/spk4.wav\",\n",
    "]\n",
    "\n",
    "# 输出为说话人与说话时间\n",
    "results = inference_diar_pipeline(audio_in=audio_list)\n",
    "print(results)"
   ]
  },
  {
   "cell_type": "code",
   "execution_count": null,
   "id": "a9a96551",
   "metadata": {},
   "outputs": [],
   "source": []
  }
 ],
 "metadata": {
  "kernelspec": {
   "display_name": "modelscope",
   "language": "python",
   "name": "modelscope"
  },
  "language_info": {
   "codemirror_mode": {
    "name": "ipython",
    "version": 3
   },
   "file_extension": ".py",
   "mimetype": "text/x-python",
   "name": "python",
   "nbconvert_exporter": "python",
   "pygments_lexer": "ipython3",
   "version": "3.8.18"
  }
 },
 "nbformat": 4,
 "nbformat_minor": 5
}
